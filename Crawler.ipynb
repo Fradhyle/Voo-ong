{
 "cells": [
  {
   "cell_type": "code",
   "execution_count": 2,
   "metadata": {},
   "outputs": [],
   "source": [
    "from bs4 import BeautifulSoup\n",
    "from concurrent.futures import ThreadPoolExecutor\n",
    "from tqdm import tqdm\n",
    "import random\n",
    "import re\n",
    "import requests\n",
    "import os\n",
    "import pandas as pd\n",
    "import time"
   ]
  },
  {
   "cell_type": "code",
   "execution_count": 3,
   "metadata": {},
   "outputs": [],
   "source": [
    "total_workers = os.cpu_count() * 5"
   ]
  },
  {
   "cell_type": "code",
   "execution_count": 4,
   "metadata": {},
   "outputs": [],
   "source": [
    "executor = ThreadPoolExecutor(max_workers=total_workers)"
   ]
  },
  {
   "cell_type": "code",
   "execution_count": 5,
   "metadata": {},
   "outputs": [],
   "source": [
    "iheaders = {'user-agent': 'Mozilla/5.0 (Windows NT 10.0; Win64; x64) AppleWebKit/537.36 (KHTML, like Gecko) Chrome/81.0.4044.138 Safari/537.36'}"
   ]
  },
  {
   "cell_type": "code",
   "execution_count": 11,
   "metadata": {},
   "outputs": [],
   "source": [
    "def thread_executor(func):\n",
    "    # 최종 취합 결과물을 저장할 DataFrame 선언\n",
    "    result_df = pd.DataFrame()\n",
    "    # 시작 시간 기록\n",
    "    start_time = time.time()\n",
    "    # 조회 시작값 입력\n",
    "    start_point = int(input('시작 번호를 입력하세요: '))\n",
    "    # 조회 끝값 입력\n",
    "    end_point = int(input('끝 번호를 입력하세요: '))\n",
    "    # range 대입\n",
    "    search_range = range(start_point, end_point + 1)\n",
    "    print(f'총 {len(search_range)}개를 크롤링합니다.')\n",
    "    # 멀티쓰레드 처리를 위한 튜플 대입\n",
    "    func_args = ((iheaders, page_code) for page_code in search_range)\n",
    "    result_list = []\n",
    "    retry_count = 5\n",
    "    \n",
    "    while True:\n",
    "        if type(search_range) == int:\n",
    "            tqdm_total = search_range\n",
    "        else:\n",
    "            tqdm_total = len(search_range)\n",
    "        tqdm_list = list(tqdm(executor.map(func, func_args), total=tqdm_total))\n",
    "        # 조회 실패한 코드 목록 선언\n",
    "        failure_list = []\n",
    "        # 실패한 코드를 저장\n",
    "        for dict_ in tqdm_list:\n",
    "            if dict_['status'] == 'Fail':\n",
    "                failure_list.append(dict_['code'])\n",
    "            else:\n",
    "                result_list.append(dict_)\n",
    "        if failure_list and retry_count != 0:\n",
    "            func_args = ((iheaders, page_code) for page_code in failure_list)\n",
    "            search_range = len(failure_list)\n",
    "            print('실패한 내역이 있어, 조회를 재시도합니다.')\n",
    "            print(failure_list)\n",
    "            retry_count -= 1\n",
    "            continue\n",
    "        elif failure_list and retry_count == 0:\n",
    "            print('조회를 재시도하였으나 조회하지 못한 코드가 있습니다.')\n",
    "            print(failure_list)\n",
    "        else:\n",
    "            break\n",
    "        \n",
    "    finish_time = time.time()\n",
    "    duration = finish_time - start_time\n",
    "    print(f'크롤링에 소요된 시간: {duration}')\n",
    "    \n",
    "    # 결과물을 DataFrame에 입력\n",
    "    for _ in result_list:\n",
    "        temp_df = pd.DataFrame(_, index=[_['code']])\n",
    "        result_df = pd.concat([result_df, temp_df])\n",
    "    \n",
    "    return result_df.sort_index()"
   ]
  },
  {
   "cell_type": "code",
   "execution_count": 7,
   "metadata": {},
   "outputs": [],
   "source": [
    "def naver_movie_basic_info(func_args):\n",
    "    # 전달 받은 매개변수를 변수에 대입\n",
    "    iheaders = func_args[0]\n",
    "    code = func_args[1]\n",
    "    base_url = 'https://movie.naver.com/movie/bi/mi/detail.nhn?code='\n",
    "    # 크롤링한 내용을 저장할 변수 선언\n",
    "    ko_title = ''\n",
    "    i18n_title = ''\n",
    "    release_year = ''\n",
    "    status = ''\n",
    "    # 크롤링할 페이지 주소 조합\n",
    "    target_url = base_url + str(code)\n",
    "    # Requests 모듈로 페이지 조회\n",
    "    try:      \n",
    "        req_result = requests.get(target_url, headers=iheaders)\n",
    "        # 연결 오류가 발생한 경우\n",
    "    except ConnectionError:\n",
    "        print(f'{code}번의 조회를 실패하였습니다.')\n",
    "        ko_title = None\n",
    "        i18n_title = None\n",
    "        release_year = None\n",
    "        # 조회 실패 상태임을 저장\n",
    "        status = 'Fail'\n",
    "        movie_dict = {'code': code, 'ko_title': ko_title, 'i18n_title': i18n_title, 'release_year': release_year, 'status': status}\n",
    "        time.sleep(random.random() + random.randrange(0, 4))\n",
    "        return movie_dict\n",
    "    \n",
    "    # 조회한 결과를 BeautifulSoup 객체로 변환\n",
    "    bs_result = BeautifulSoup(req_result.text, 'lxml')\n",
    "    try:\n",
    "        title_temp = bs_result.find_all('h3', class_='h_movie')\n",
    "        # 없는 코드를 조회할 경우 이 부분에서 IndexError 발생\n",
    "        ko_title_string = title_temp[0].a.string\n",
    "        i18n_title_temp = title_temp[0].strong['title'].replace('\\t', '')\n",
    "        i18n_title_string = i18n_title_temp[:-6]\n",
    "        release_year_string = i18n_title_temp[-4:]\n",
    "    # IndexError 처리\n",
    "    except IndexError:\n",
    "        ko_title = None\n",
    "        i18n_title = None\n",
    "        release_year = None\n",
    "        status = 'OK'\n",
    "    else:\n",
    "        ko_title = ko_title_string\n",
    "        i18n_title = i18n_title_string\n",
    "        release_year = release_year_string\n",
    "        status = 'OK'\n",
    "    finally:\n",
    "        movie_dict = {'code': code, 'ko_title': ko_title, 'i18n_title': i18n_title, 'release_year': release_year, 'status': status}\n",
    "        time.sleep(random.random() + random.randrange(0, 3))\n",
    "        return movie_dict"
   ]
  },
  {
   "cell_type": "code",
   "execution_count": 8,
   "metadata": {},
   "outputs": [],
   "source": [
    "def naver_movie_genre(self):\n",
    "    target_url = 'https://movie.naver.com/movie/sdb/browsing/bmovie_genre.nhn'\n",
    "    req_result = requests.get(target_url, headers=self.iheaders)\n",
    "    bs_result = BeautifulSoup(req_result.text, 'lxml')\n",
    "    search_result = bs_result.find_all('a', href=re.compile('bmovie.nhn\\?genre=\\d'))\n",
    "    genre_text_list = []\n",
    "    genre_code_list = []\n",
    "    genre_df = pd.DataFrame()\n",
    "    \n",
    "    for _ in search_result:\n",
    "        genre_text = _.string.rstrip()\n",
    "        genre_text_list.append(genre_text)\n",
    "        pattern = re.compile('\\d+')\n",
    "        href_text_temp = _['href']\n",
    "        href_text = pattern.findall(href_text_temp)[0]\n",
    "        genre_code_list.append(href_text)\n",
    "        genre_info = {'code': genre_code_list, 'genre': genre_text_list}\n",
    "        genre_df = pd.DataFrame(genre_info, index=genre_info['code'], columns=list(genre_info.keys()))\n",
    "    \n",
    "    return genre_df"
   ]
  },
  {
   "cell_type": "code",
   "execution_count": 12,
   "metadata": {},
   "outputs": [
    {
     "name": "stdin",
     "output_type": "stream",
     "text": [
      "시작 번호를 입력하세요:  10000\n",
      "끝 번호를 입력하세요:  11000\n"
     ]
    },
    {
     "name": "stdout",
     "output_type": "stream",
     "text": [
      "총 1001개를 크롤링합니다.\n"
     ]
    },
    {
     "ename": "BrokenProcessPool",
     "evalue": "A child process terminated abruptly, the process pool is not usable anymore",
     "output_type": "error",
     "traceback": [
      "\u001b[1;31m---------------------------------------------------------------------------\u001b[0m",
      "\u001b[1;31mBrokenProcessPool\u001b[0m                         Traceback (most recent call last)",
      "\u001b[1;32m<ipython-input-12-5fdf0eac5ad8>\u001b[0m in \u001b[0;36m<module>\u001b[1;34m\u001b[0m\n\u001b[1;32m----> 1\u001b[1;33m \u001b[0mthread_executor\u001b[0m\u001b[1;33m(\u001b[0m\u001b[0mnaver_movie_basic_info\u001b[0m\u001b[1;33m)\u001b[0m\u001b[1;33m\u001b[0m\u001b[1;33m\u001b[0m\u001b[0m\n\u001b[0m",
      "\u001b[1;32m<ipython-input-11-4b2dae4d235b>\u001b[0m in \u001b[0;36mthread_executor\u001b[1;34m(func)\u001b[0m\n\u001b[0;32m     21\u001b[0m         \u001b[1;32melse\u001b[0m\u001b[1;33m:\u001b[0m\u001b[1;33m\u001b[0m\u001b[1;33m\u001b[0m\u001b[0m\n\u001b[0;32m     22\u001b[0m             \u001b[0mtqdm_total\u001b[0m \u001b[1;33m=\u001b[0m \u001b[0mlen\u001b[0m\u001b[1;33m(\u001b[0m\u001b[0msearch_range\u001b[0m\u001b[1;33m)\u001b[0m\u001b[1;33m\u001b[0m\u001b[1;33m\u001b[0m\u001b[0m\n\u001b[1;32m---> 23\u001b[1;33m         \u001b[0mtqdm_list\u001b[0m \u001b[1;33m=\u001b[0m \u001b[0mlist\u001b[0m\u001b[1;33m(\u001b[0m\u001b[0mtqdm\u001b[0m\u001b[1;33m(\u001b[0m\u001b[0mexecutor\u001b[0m\u001b[1;33m.\u001b[0m\u001b[0msubmit\u001b[0m\u001b[1;33m(\u001b[0m\u001b[0mfunc\u001b[0m\u001b[1;33m,\u001b[0m \u001b[0mfunc_args\u001b[0m\u001b[1;33m)\u001b[0m\u001b[1;33m,\u001b[0m \u001b[0mtotal\u001b[0m\u001b[1;33m=\u001b[0m\u001b[0mtqdm_total\u001b[0m\u001b[1;33m)\u001b[0m\u001b[1;33m)\u001b[0m\u001b[1;33m\u001b[0m\u001b[1;33m\u001b[0m\u001b[0m\n\u001b[0m\u001b[0;32m     24\u001b[0m         \u001b[1;31m# 조회 실패한 코드 목록 선언\u001b[0m\u001b[1;33m\u001b[0m\u001b[1;33m\u001b[0m\u001b[1;33m\u001b[0m\u001b[0m\n\u001b[0;32m     25\u001b[0m         \u001b[0mfailure_list\u001b[0m \u001b[1;33m=\u001b[0m \u001b[1;33m[\u001b[0m\u001b[1;33m]\u001b[0m\u001b[1;33m\u001b[0m\u001b[1;33m\u001b[0m\u001b[0m\n",
      "\u001b[1;32mC:\\ProgramData\\Anaconda3\\lib\\concurrent\\futures\\process.py\u001b[0m in \u001b[0;36msubmit\u001b[1;34m(*args, **kwargs)\u001b[0m\n\u001b[0;32m    623\u001b[0m         \u001b[1;32mwith\u001b[0m \u001b[0mself\u001b[0m\u001b[1;33m.\u001b[0m\u001b[0m_shutdown_lock\u001b[0m\u001b[1;33m:\u001b[0m\u001b[1;33m\u001b[0m\u001b[1;33m\u001b[0m\u001b[0m\n\u001b[0;32m    624\u001b[0m             \u001b[1;32mif\u001b[0m \u001b[0mself\u001b[0m\u001b[1;33m.\u001b[0m\u001b[0m_broken\u001b[0m\u001b[1;33m:\u001b[0m\u001b[1;33m\u001b[0m\u001b[1;33m\u001b[0m\u001b[0m\n\u001b[1;32m--> 625\u001b[1;33m                 \u001b[1;32mraise\u001b[0m \u001b[0mBrokenProcessPool\u001b[0m\u001b[1;33m(\u001b[0m\u001b[0mself\u001b[0m\u001b[1;33m.\u001b[0m\u001b[0m_broken\u001b[0m\u001b[1;33m)\u001b[0m\u001b[1;33m\u001b[0m\u001b[1;33m\u001b[0m\u001b[0m\n\u001b[0m\u001b[0;32m    626\u001b[0m             \u001b[1;32mif\u001b[0m \u001b[0mself\u001b[0m\u001b[1;33m.\u001b[0m\u001b[0m_shutdown_thread\u001b[0m\u001b[1;33m:\u001b[0m\u001b[1;33m\u001b[0m\u001b[1;33m\u001b[0m\u001b[0m\n\u001b[0;32m    627\u001b[0m                 \u001b[1;32mraise\u001b[0m \u001b[0mRuntimeError\u001b[0m\u001b[1;33m(\u001b[0m\u001b[1;34m'cannot schedule new futures after shutdown'\u001b[0m\u001b[1;33m)\u001b[0m\u001b[1;33m\u001b[0m\u001b[1;33m\u001b[0m\u001b[0m\n",
      "\u001b[1;31mBrokenProcessPool\u001b[0m: A child process terminated abruptly, the process pool is not usable anymore"
     ]
    }
   ],
   "source": [
    "thread_executor(naver_movie_basic_info)"
   ]
  },
  {
   "cell_type": "code",
   "execution_count": null,
   "metadata": {},
   "outputs": [],
   "source": []
  }
 ],
 "metadata": {
  "kernelspec": {
   "display_name": "Python 3",
   "language": "python",
   "name": "python3"
  },
  "language_info": {
   "codemirror_mode": {
    "name": "ipython",
    "version": 3
   },
   "file_extension": ".py",
   "mimetype": "text/x-python",
   "name": "python",
   "nbconvert_exporter": "python",
   "pygments_lexer": "ipython3",
   "version": "3.7.7"
  }
 },
 "nbformat": 4,
 "nbformat_minor": 4
}
